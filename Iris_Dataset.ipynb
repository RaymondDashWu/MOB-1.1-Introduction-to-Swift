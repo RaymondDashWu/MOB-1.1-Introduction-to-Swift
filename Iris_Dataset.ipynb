{
  "nbformat": 4,
  "nbformat_minor": 0,
  "metadata": {
    "colab": {
      "name": "Iris Dataset",
      "provenance": [],
      "collapsed_sections": []
    },
    "kernelspec": {
      "name": "swift",
      "display_name": "Swift"
    }
  },
  "cells": [
    {
      "cell_type": "code",
      "metadata": {
        "id": "kZRlD4utdPuX",
        "colab_type": "code",
        "colab": {}
      },
      "source": [
        "import Python"
      ],
      "execution_count": 0,
      "outputs": []
    },
    {
      "cell_type": "code",
      "metadata": {
        "id": "jAabkkkSf3Yo",
        "colab_type": "code",
        "colab": {}
      },
      "source": [
        "let 👍: Int = 123"
      ],
      "execution_count": 0,
      "outputs": []
    },
    {
      "cell_type": "code",
      "metadata": {
        "id": "_Ecwh767ggXp",
        "colab_type": "code",
        "outputId": "c0294a93-8da4-4e3a-9f61-54a3d1f3ac1a",
        "colab": {
          "base_uri": "https://localhost:8080/",
          "height": 34
        }
      },
      "source": [
        "👍"
      ],
      "execution_count": 3,
      "outputs": [
        {
          "output_type": "execute_result",
          "data": {
            "text/plain": [
              "123\n"
            ]
          },
          "metadata": {
            "tags": []
          },
          "execution_count": 3
        }
      ]
    },
    {
      "cell_type": "code",
      "metadata": {
        "id": "RnvlBKGbgiEY",
        "colab_type": "code",
        "outputId": "9e04fa6e-e657-465b-91bb-690df8e41bb1",
        "colab": {
          "base_uri": "https://localhost:8080/",
          "height": 34
        }
      },
      "source": [
        "Double.pi"
      ],
      "execution_count": 4,
      "outputs": [
        {
          "output_type": "execute_result",
          "data": {
            "text/plain": [
              "3.141592653589793\n"
            ]
          },
          "metadata": {
            "tags": []
          },
          "execution_count": 4
        }
      ]
    },
    {
      "cell_type": "code",
      "metadata": {
        "id": "_a_c2sRZgwsG",
        "colab_type": "code",
        "outputId": "afae9d39-cd37-479a-a3fc-01c8aa909c75",
        "colab": {
          "base_uri": "https://localhost:8080/",
          "height": 34
        }
      },
      "source": [
        "Float.pi"
      ],
      "execution_count": 5,
      "outputs": [
        {
          "output_type": "execute_result",
          "data": {
            "text/plain": [
              "3.1415925\n"
            ]
          },
          "metadata": {
            "tags": []
          },
          "execution_count": 5
        }
      ]
    },
    {
      "cell_type": "markdown",
      "metadata": {
        "id": "xV4oylFHsXel",
        "colab_type": "text"
      },
      "source": [
        "# Iris Dataset play\n",
        "https://www.tensorflow.org/swift/tutorials/model_training_walkthrough"
      ]
    },
    {
      "cell_type": "markdown",
      "metadata": {
        "id": "7KISSo5B3OPf",
        "colab_type": "text"
      },
      "source": [
        ""
      ]
    },
    {
      "cell_type": "code",
      "metadata": {
        "id": "33FKlR8dg5a_",
        "colab_type": "code",
        "colab": {}
      },
      "source": [
        "import TensorFlow\n",
        "\n",
        "import Python\n",
        "%include \"EnableIPythonDisplay.swift\"\n",
        "IPythonDisplay.shell.enable_matplotlib(\"inline\")\n",
        "let plt = Python.import(\"matplotlib.pyplot\")"
      ],
      "execution_count": 0,
      "outputs": []
    },
    {
      "cell_type": "code",
      "metadata": {
        "id": "L6NmxbuiiSTS",
        "colab_type": "code",
        "colab": {}
      },
      "source": [
        "// Download a helper file that helps us work around some temporary limitations\n",
        "// in the dataset API.\n",
        "import Foundation\n",
        "import FoundationNetworking\n",
        "func download(from sourceString: String, to destinationString: String) {\n",
        "    let source = URL(string: sourceString)!\n",
        "    let destination = URL(fileURLWithPath: destinationString)\n",
        "    let data = try! Data.init(contentsOf: source)\n",
        "    try! data.write(to: destination)\n",
        "}\n",
        "download(\n",
        "    from: \"https://raw.githubusercontent.com/tensorflow/swift/master/docs/site/tutorials/TutorialDatasetCSVAPI.swift\",\n",
        "    to: \"TutorialDatasetCSVAPI.swift\")"
      ],
      "execution_count": 0,
      "outputs": []
    },
    {
      "cell_type": "code",
      "metadata": {
        "id": "ERROb7JgimUb",
        "colab_type": "code",
        "colab": {}
      },
      "source": [
        "let trainDataFilename = \"iris_training.csv\"\n",
        "download(from: \"http://download.tensorflow.org/data/iris_training.csv\", to: trainDataFilename)"
      ],
      "execution_count": 0,
      "outputs": []
    },
    {
      "cell_type": "code",
      "metadata": {
        "id": "FlHfOhtkjD2g",
        "colab_type": "code",
        "outputId": "ec04e0ef-5ded-405b-afa5-b1e265e659fe",
        "colab": {
          "base_uri": "https://localhost:8080/",
          "height": 51
        }
      },
      "source": [
        "print(Python.version)"
      ],
      "execution_count": 9,
      "outputs": [
        {
          "output_type": "stream",
          "text": [
            "3.6.8 (default, Oct  7 2019, 12:59:55) \r\n",
            "[GCC 8.3.0]\r\n"
          ],
          "name": "stdout"
        }
      ]
    },
    {
      "cell_type": "code",
      "metadata": {
        "id": "w4Sc3k9qiqOJ",
        "colab_type": "code",
        "outputId": "75f0fa87-609b-41a9-a794-06f0adbdf98c",
        "colab": {
          "base_uri": "https://localhost:8080/",
          "height": 119
        }
      },
      "source": [
        "let f = Python.open(trainDataFilename)\n",
        "for _ in 0..<5 {\n",
        "    print(Python.next(f).strip())\n",
        "}\n",
        "f.close()"
      ],
      "execution_count": 10,
      "outputs": [
        {
          "output_type": "stream",
          "text": [
            "120,4,setosa,versicolor,virginica\r\n",
            "6.4,2.8,5.6,2.2,2\r\n",
            "5.0,2.3,3.3,1.0,1\r\n",
            "4.9,2.5,4.5,1.7,2\r\n",
            "4.9,3.1,1.5,0.1,0\r\n"
          ],
          "name": "stdout"
        },
        {
          "output_type": "execute_result",
          "data": {
            "text/plain": [
              "None\n"
            ]
          },
          "metadata": {
            "tags": []
          },
          "execution_count": 10
        }
      ]
    },
    {
      "cell_type": "code",
      "metadata": {
        "id": "MOYL8_hDi3XL",
        "colab_type": "code",
        "outputId": "ab2f2048-5b14-40ff-ca67-1e5f31ddb906",
        "colab": {
          "base_uri": "https://localhost:8080/",
          "height": 34
        }
      },
      "source": [
        "let pd = Python.import(\"pandas\")\n",
        "pd"
      ],
      "execution_count": 11,
      "outputs": [
        {
          "output_type": "execute_result",
          "data": {
            "text/plain": [
              "<module 'pandas' from '/usr/local/lib/python3.6/dist-packages/pandas/__init__.py'>\n"
            ]
          },
          "metadata": {
            "tags": []
          },
          "execution_count": 11
        }
      ]
    },
    {
      "cell_type": "code",
      "metadata": {
        "id": "5-Nt77_bl0fX",
        "colab_type": "code",
        "outputId": "ab84c82d-845a-48f8-817d-a641fbdf50a7",
        "colab": {
          "base_uri": "https://localhost:8080/",
          "height": 34
        }
      },
      "source": [
        "pd.set_option(\"display.max_columns\", 100)\n"
      ],
      "execution_count": 12,
      "outputs": [
        {
          "output_type": "execute_result",
          "data": {
            "text/plain": [
              "None\n"
            ]
          },
          "metadata": {
            "tags": []
          },
          "execution_count": 12
        }
      ]
    },
    {
      "cell_type": "code",
      "metadata": {
        "id": "NBDeFyiPkDYb",
        "colab_type": "code",
        "outputId": "20cb5f95-8454-4d1e-b0e9-f2474a882d63",
        "colab": {
          "base_uri": "https://localhost:8080/",
          "height": 374
        }
      },
      "source": [
        "let df = pd.read_csv(trainDataFilename)\n",
        "df.head(20)"
      ],
      "execution_count": 13,
      "outputs": [
        {
          "output_type": "execute_result",
          "data": {
            "text/plain": [
              "    120    4  setosa  versicolor  virginica\n",
              "0   6.4  2.8     5.6         2.2          2\n",
              "1   5.0  2.3     3.3         1.0          1\n",
              "2   4.9  2.5     4.5         1.7          2\n",
              "3   4.9  3.1     1.5         0.1          0\n",
              "4   5.7  3.8     1.7         0.3          0\n",
              "5   4.4  3.2     1.3         0.2          0\n",
              "6   5.4  3.4     1.5         0.4          0\n",
              "7   6.9  3.1     5.1         2.3          2\n",
              "8   6.7  3.1     4.4         1.4          1\n",
              "9   5.1  3.7     1.5         0.4          0\n",
              "10  5.2  2.7     3.9         1.4          1\n",
              "11  6.9  3.1     4.9         1.5          1\n",
              "12  5.8  4.0     1.2         0.2          0\n",
              "13  5.4  3.9     1.7         0.4          0\n",
              "14  7.7  3.8     6.7         2.2          2\n",
              "15  6.3  3.3     4.7         1.6          1\n",
              "16  6.8  3.2     5.9         2.3          2\n",
              "17  7.6  3.0     6.6         2.1          2\n",
              "18  6.4  3.2     5.3         2.3          2\n",
              "19  5.7  4.4     1.5         0.4          0\n"
            ]
          },
          "metadata": {
            "tags": []
          },
          "execution_count": 13
        }
      ]
    },
    {
      "cell_type": "code",
      "metadata": {
        "id": "JsFa7AbzlFoQ",
        "colab_type": "code",
        "outputId": "f1292ebc-3d07-4376-da17-af651100b0e0",
        "colab": {
          "base_uri": "https://localhost:8080/",
          "height": 34
        }
      },
      "source": [
        "var integer: Int = 20\n",
        "var decimal: Double = 8.5\n",
        "\n",
        "integer = Int(decimal)\n",
        "integer"
      ],
      "execution_count": 14,
      "outputs": [
        {
          "output_type": "execute_result",
          "data": {
            "text/plain": [
              "8\n"
            ]
          },
          "metadata": {
            "tags": []
          },
          "execution_count": 14
        }
      ]
    },
    {
      "cell_type": "code",
      "metadata": {
        "id": "Xwtw_jPwosqL",
        "colab_type": "code",
        "outputId": "9e65d7f1-7bd5-4c3f-a9c4-2dd42d3448dc",
        "colab": {
          "base_uri": "https://localhost:8080/",
          "height": 51
        }
      },
      "source": [
        "let featureNames = [\"sepal_length\", \"sepal_width\", \"petal_length\", \"petal_width\"]\n",
        "let labelName = \"species\"\n",
        "let columnNames = featureNames + [labelName]\n",
        "\n",
        "print(\"Features: \\(featureNames)\")\n",
        "print(\"Label: \\(labelName)\")"
      ],
      "execution_count": 15,
      "outputs": [
        {
          "output_type": "stream",
          "text": [
            "Features: [\"sepal_length\", \"sepal_width\", \"petal_length\", \"petal_width\"]\r\n",
            "Label: species\r\n"
          ],
          "name": "stdout"
        }
      ]
    },
    {
      "cell_type": "code",
      "metadata": {
        "id": "KAhJEUq3pCVk",
        "colab_type": "code",
        "colab": {}
      },
      "source": [
        "let classNames = [\"Iris setosa\", \"Iris versicolor\", \"Iris virginica\"]"
      ],
      "execution_count": 0,
      "outputs": []
    },
    {
      "cell_type": "code",
      "metadata": {
        "id": "5r07WblkrvE5",
        "colab_type": "code",
        "colab": {}
      },
      "source": [
        "let batchSize = 32\n",
        "\n",
        "/// A batch of examples from the iris dataset.\n",
        "struct IrisBatch {\n",
        "    /// [batchSize, featureCount] tensor of features.\n",
        "    let features: Tensor<Float>\n",
        "\n",
        "    /// [batchSize] tensor of labels.\n",
        "    let labels: Tensor<Int32>\n",
        "}\n",
        "\n",
        "%include \"TutorialDatasetCSVAPI.swift\"\n",
        "\n",
        "let trainDataset: Dataset<IrisBatch> = Dataset(\n",
        "    contentsOfCSVFile: trainDataFilename, hasHeader: true,\n",
        "    featureColumns: [0, 1, 2, 3], labelColumns: [4]\n",
        ").batched(batchSize)"
      ],
      "execution_count": 0,
      "outputs": []
    },
    {
      "cell_type": "code",
      "metadata": {
        "id": "xhLEDq8z2JyN",
        "colab_type": "code",
        "colab": {}
      },
      "source": [
        "let firstTrainExamples = trainDataset.first!\n",
        "let firstTrainFeatures = firstTrainExamples.features\n",
        "let firstTrainLabels = firstTrainExamples.labels"
      ],
      "execution_count": 0,
      "outputs": []
    },
    {
      "cell_type": "code",
      "metadata": {
        "id": "6Z2YG2McwiLj",
        "colab_type": "code",
        "outputId": "23178a90-a77e-4e8f-f628-6f5132dde6a4",
        "colab": {
          "base_uri": "https://localhost:8080/",
          "height": 612
        }
      },
      "source": [
        "trainDataset.first"
      ],
      "execution_count": 19,
      "outputs": [
        {
          "output_type": "execute_result",
          "data": {
            "text/plain": [
              "▿ Optional<IrisBatch>\n",
              "  ▿ some : IrisBatch\n",
              "    - features : [[6.4, 2.8, 5.6, 2.2],\n",
              " [5.0, 2.3, 3.3, 1.0],\n",
              " [4.9, 2.5, 4.5, 1.7],\n",
              " [4.9, 3.1, 1.5, 0.1],\n",
              " [5.7, 3.8, 1.7, 0.3],\n",
              " [4.4, 3.2, 1.3, 0.2],\n",
              " [5.4, 3.4, 1.5, 0.4],\n",
              " [6.9, 3.1, 5.1, 2.3],\n",
              " [6.7, 3.1, 4.4, 1.4],\n",
              " [5.1, 3.7, 1.5, 0.4],\n",
              " [5.2, 2.7, 3.9, 1.4],\n",
              " [6.9, 3.1, 4.9, 1.5],\n",
              " [5.8, 4.0, 1.2, 0.2],\n",
              " [5.4, 3.9, 1.7, 0.4],\n",
              " [7.7, 3.8, 6.7, 2.2],\n",
              " [6.3, 3.3, 4.7, 1.6],\n",
              " [6.8, 3.2, 5.9, 2.3],\n",
              " [7.6, 3.0, 6.6, 2.1],\n",
              " [6.4, 3.2, 5.3, 2.3],\n",
              " [5.7, 4.4, 1.5, 0.4],\n",
              " [6.7, 3.3, 5.7, 2.1],\n",
              " [6.4, 2.8, 5.6, 2.1],\n",
              " [5.4, 3.9, 1.3, 0.4],\n",
              " [6.1, 2.6, 5.6, 1.4],\n",
              " [7.2, 3.0, 5.8, 1.6],\n",
              " [5.2, 3.5, 1.5, 0.2],\n",
              " [5.8, 2.6, 4.0, 1.2],\n",
              " [5.9, 3.0, 5.1, 1.8],\n",
              " [5.4, 3.0, 4.5, 1.5],\n",
              " [6.7, 3.0, 5.0, 1.7],\n",
              " [6.3, 2.3, 4.4, 1.3],\n",
              " [5.1, 2.5, 3.0, 1.1]]\n",
              "    - labels : [2, 1, 2, 0, 0, 0, 0, 2, 1, 0, 1, 1, 0, 0, 2, 1, 2, 2, 2, 0, 2, 2, 0, 2, 2, 0, 1, 2, 1, 1, 1, 1]\n"
            ]
          },
          "metadata": {
            "tags": []
          },
          "execution_count": 19
        }
      ]
    },
    {
      "cell_type": "code",
      "metadata": {
        "id": "DMANtekSyKjs",
        "colab_type": "code",
        "colab": {
          "base_uri": "https://localhost:8080/",
          "height": 561
        },
        "outputId": "f89715f9-2bb8-4179-e380-61a9e8650ccc"
      },
      "source": [
        "trainDataset.first!.features"
      ],
      "execution_count": 20,
      "outputs": [
        {
          "output_type": "execute_result",
          "data": {
            "text/plain": [
              "[[6.4, 2.8, 5.6, 2.2],\n",
              " [5.0, 2.3, 3.3, 1.0],\n",
              " [4.9, 2.5, 4.5, 1.7],\n",
              " [4.9, 3.1, 1.5, 0.1],\n",
              " [5.7, 3.8, 1.7, 0.3],\n",
              " [4.4, 3.2, 1.3, 0.2],\n",
              " [5.4, 3.4, 1.5, 0.4],\n",
              " [6.9, 3.1, 5.1, 2.3],\n",
              " [6.7, 3.1, 4.4, 1.4],\n",
              " [5.1, 3.7, 1.5, 0.4],\n",
              " [5.2, 2.7, 3.9, 1.4],\n",
              " [6.9, 3.1, 4.9, 1.5],\n",
              " [5.8, 4.0, 1.2, 0.2],\n",
              " [5.4, 3.9, 1.7, 0.4],\n",
              " [7.7, 3.8, 6.7, 2.2],\n",
              " [6.3, 3.3, 4.7, 1.6],\n",
              " [6.8, 3.2, 5.9, 2.3],\n",
              " [7.6, 3.0, 6.6, 2.1],\n",
              " [6.4, 3.2, 5.3, 2.3],\n",
              " [5.7, 4.4, 1.5, 0.4],\n",
              " [6.7, 3.3, 5.7, 2.1],\n",
              " [6.4, 2.8, 5.6, 2.1],\n",
              " [5.4, 3.9, 1.3, 0.4],\n",
              " [6.1, 2.6, 5.6, 1.4],\n",
              " [7.2, 3.0, 5.8, 1.6],\n",
              " [5.2, 3.5, 1.5, 0.2],\n",
              " [5.8, 2.6, 4.0, 1.2],\n",
              " [5.9, 3.0, 5.1, 1.8],\n",
              " [5.4, 3.0, 4.5, 1.5],\n",
              " [6.7, 3.0, 5.0, 1.7],\n",
              " [6.3, 2.3, 4.4, 1.3],\n",
              " [5.1, 2.5, 3.0, 1.1]]\n"
            ]
          },
          "metadata": {
            "tags": []
          },
          "execution_count": 20
        }
      ]
    },
    {
      "cell_type": "code",
      "metadata": {
        "id": "-3hUqBg4zl3l",
        "colab_type": "code",
        "colab": {
          "base_uri": "https://localhost:8080/",
          "height": 34
        },
        "outputId": "9f83d5b4-c267-4a72-f291-c2da8267f569"
      },
      "source": [
        "trainDataset.first!.labels"
      ],
      "execution_count": 21,
      "outputs": [
        {
          "output_type": "execute_result",
          "data": {
            "text/plain": [
              "[2, 1, 2, 0, 0, 0, 0, 2, 1, 0, 1, 1, 0, 0, 2, 1, 2, 2, 2, 0, 2, 2, 0, 2, 2, 0, 1, 2, 1, 1, 1, 1]\n"
            ]
          },
          "metadata": {
            "tags": []
          },
          "execution_count": 21
        }
      ]
    },
    {
      "cell_type": "code",
      "metadata": {
        "id": "VbQR4TX135kN",
        "colab_type": "code",
        "colab": {
          "base_uri": "https://localhost:8080/",
          "height": 153
        },
        "outputId": "cf4a78e1-7cc2-421a-b3b3-b2273288883b"
      },
      "source": [
        "firstTrainFeatures.transposed()"
      ],
      "execution_count": 22,
      "outputs": [
        {
          "output_type": "execute_result",
          "data": {
            "text/plain": [
              "[[6.4, 5.0, 4.9, 4.9, 5.7, 4.4, 5.4, 6.9, 6.7, 5.1, 5.2, 6.9, 5.8, 5.4, 7.7, 6.3, 6.8, 7.6, 6.4, 5.7, 6.7, 6.4, 5.4, 6.1, 7.2, 5.2,\n",
              "  5.8, 5.9, 5.4, 6.7, 6.3, 5.1],\n",
              " [2.8, 2.3, 2.5, 3.1, 3.8, 3.2, 3.4, 3.1, 3.1, 3.7, 2.7, 3.1, 4.0, 3.9, 3.8, 3.3, 3.2, 3.0, 3.2, 4.4, 3.3, 2.8, 3.9, 2.6, 3.0, 3.5,\n",
              "  2.6, 3.0, 3.0, 3.0, 2.3, 2.5],\n",
              " [5.6, 3.3, 4.5, 1.5, 1.7, 1.3, 1.5, 5.1, 4.4, 1.5, 3.9, 4.9, 1.2, 1.7, 6.7, 4.7, 5.9, 6.6, 5.3, 1.5, 5.7, 5.6, 1.3, 5.6, 5.8, 1.5,\n",
              "  4.0, 5.1, 4.5, 5.0, 4.4, 3.0],\n",
              " [2.2, 1.0, 1.7, 0.1, 0.3, 0.2, 0.4, 2.3, 1.4, 0.4, 1.4, 1.5, 0.2, 0.4, 2.2, 1.6, 2.3, 2.1, 2.3, 0.4, 2.1, 2.1, 0.4, 1.4, 1.6, 0.2,\n",
              "  1.2, 1.8, 1.5, 1.7, 1.3, 1.1]]\n"
            ]
          },
          "metadata": {
            "tags": []
          },
          "execution_count": 22
        }
      ]
    },
    {
      "cell_type": "code",
      "metadata": {
        "id": "UJoN4frm4MEW",
        "colab_type": "code",
        "colab": {
          "base_uri": "https://localhost:8080/",
          "height": 578
        },
        "outputId": "caee8148-d656-42fa-e20d-031e829e5b83"
      },
      "source": [
        "firstTrainFeatures.transposed()[2].scalars"
      ],
      "execution_count": 23,
      "outputs": [
        {
          "output_type": "execute_result",
          "data": {
            "text/plain": [
              "▿ 32 elements\n",
              "  - 0 : 5.6\n",
              "  - 1 : 3.3\n",
              "  - 2 : 4.5\n",
              "  - 3 : 1.5\n",
              "  - 4 : 1.7\n",
              "  - 5 : 1.3\n",
              "  - 6 : 1.5\n",
              "  - 7 : 5.1\n",
              "  - 8 : 4.4\n",
              "  - 9 : 1.5\n",
              "  - 10 : 3.9\n",
              "  - 11 : 4.9\n",
              "  - 12 : 1.2\n",
              "  - 13 : 1.7\n",
              "  - 14 : 6.7\n",
              "  - 15 : 4.7\n",
              "  - 16 : 5.9\n",
              "  - 17 : 6.6\n",
              "  - 18 : 5.3\n",
              "  - 19 : 1.5\n",
              "  - 20 : 5.7\n",
              "  - 21 : 5.6\n",
              "  - 22 : 1.3\n",
              "  - 23 : 5.6\n",
              "  - 24 : 5.8\n",
              "  - 25 : 1.5\n",
              "  - 26 : 4.0\n",
              "  - 27 : 5.1\n",
              "  - 28 : 4.5\n",
              "  - 29 : 5.0\n",
              "  - 30 : 4.4\n",
              "  - 31 : 3.0\n"
            ]
          },
          "metadata": {
            "tags": []
          },
          "execution_count": 23
        }
      ]
    },
    {
      "cell_type": "code",
      "metadata": {
        "id": "pgsPiGal1baW",
        "colab_type": "code",
        "colab": {
          "base_uri": "https://localhost:8080/",
          "height": 296
        },
        "outputId": "f2b51dca-a7c0-440c-950e-1623b8656e65"
      },
      "source": [
        "let firstTrainFeaturesTransposed = firstTrainFeatures.transposed()\n",
        "let petalLengths = firstTrainFeaturesTransposed[2].scalars\n",
        "let sepalLengths = firstTrainFeaturesTransposed[0].scalars\n",
        "\n",
        "plt.scatter(petalLengths, sepalLengths, c: firstTrainLabels.array.scalars)\n",
        "plt.xlabel(\"Petal length\")\n",
        "plt.ylabel(\"Sepal length\")\n",
        "plt.show()"
      ],
      "execution_count": 24,
      "outputs": [
        {
          "output_type": "display_data",
          "data": {
            "image/png": "[encoded data removed]",
            "text/plain": [
              "<Figure size 432x288 with 1 Axes>"
            ]
          },
          "metadata": {
            "tags": []
          }
        },
        {
          "output_type": "execute_result",
          "data": {
            "text/plain": [
              "None\n"
            ]
          },
          "metadata": {
            "tags": []
          },
          "execution_count": 24
        }
      ]
    },
    {
      "cell_type": "code",
      "metadata": {
        "id": "0Hd73i-j3iZz",
        "colab_type": "code",
        "colab": {}
      },
      "source": [
        "import TensorFlow\n",
        "\n",
        "let hiddenSize: Int = 10\n",
        "struct IrisModel: Layer {\n",
        "    var layer1 = Dense<Float>(inputSize: 4, outputSize: hiddenSize, activation: relu)\n",
        "    var layer2 = Dense<Float>(inputSize: hiddenSize, outputSize: hiddenSize, activation: relu)\n",
        "    var layer3 = Dense<Float>(inputSize: hiddenSize, outputSize: 3)\n",
        "    \n",
        "    @differentiable\n",
        "    func callAsFunction(_ input: Tensor<Float>) -> Tensor<Float> {\n",
        "        return input.sequenced(through: layer1, layer2, layer3)\n",
        "    }\n",
        "}\n",
        "\n",
        "var model = IrisModel()"
      ],
      "execution_count": 0,
      "outputs": []
    },
    {
      "cell_type": "code",
      "metadata": {
        "id": "S46GAH9silYo",
        "colab_type": "code",
        "colab": {
          "base_uri": "https://localhost:8080/",
          "height": 102
        },
        "outputId": "e2b90c40-195c-4eed-ee76-db101db6aa15"
      },
      "source": [
        "let firstTrainPredictions = model(firstTrainFeatures)\n",
        "firstTrainPredictions[0..<5]"
      ],
      "execution_count": 26,
      "outputs": [
        {
          "output_type": "execute_result",
          "data": {
            "text/plain": [
              "[[ 0.9016478,  0.8907674, -2.9506414],\n",
              " [ 0.5592571,  0.5546799, -2.0853481],\n",
              " [0.57447845,  0.7889459, -2.2977972],\n",
              " [0.49123922,  0.2002473, -1.3781539],\n",
              " [0.63411796,  0.2225758, -1.6187265]]\n"
            ]
          },
          "metadata": {
            "tags": []
          },
          "execution_count": 26
        }
      ]
    },
    {
      "cell_type": "code",
      "metadata": {
        "id": "Zfmqsagmioqe",
        "colab_type": "code",
        "colab": {
          "base_uri": "https://localhost:8080/",
          "height": 102
        },
        "outputId": "3c870c96-fb95-49d0-adbd-2fcc2f9112f6"
      },
      "source": [
        "softmax(firstTrainPredictions[0..<5])"
      ],
      "execution_count": 28,
      "outputs": [
        {
          "output_type": "execute_result",
          "data": {
            "text/plain": [
              "[[ 0.49741107,  0.49202836, 0.010560574],\n",
              " [ 0.48391783,  0.48170787, 0.034374326],\n",
              " [ 0.43558335,  0.53977567, 0.024640972],\n",
              " [  0.5258345,  0.39307272,  0.08109274],\n",
              " [  0.5656981,  0.37484714, 0.059454788]]\n"
            ]
          },
          "metadata": {
            "tags": []
          },
          "execution_count": 28
        }
      ]
    },
    {
      "cell_type": "code",
      "metadata": {
        "id": "i-WxrbpHkMGw",
        "colab_type": "code",
        "colab": {
          "base_uri": "https://localhost:8080/",
          "height": 51
        },
        "outputId": "f19f5b8e-0020-446f-c4a6-fb3daaa465ba"
      },
      "source": [
        "print(\"Prediction: \\(firstTrainPredictions.argmax(squeezingAxis: 1))\")\n",
        "print(\"    Labels: \\(firstTrainLabels)\")"
      ],
      "execution_count": 29,
      "outputs": [
        {
          "output_type": "stream",
          "text": [
            "Prediction: [0, 0, 1, 0, 0, 0, 0, 0, 0, 0, 1, 1, 0, 0, 1, 1, 1, 1, 1, 0, 1, 1, 0, 1, 1, 0, 1, 1, 1, 0, 0, 0]\r\n",
            "    Labels: [2, 1, 2, 0, 0, 0, 0, 2, 1, 0, 1, 1, 0, 0, 2, 1, 2, 2, 2, 0, 2, 2, 0, 2, 2, 0, 1, 2, 1, 1, 1, 1]\r\n"
          ],
          "name": "stdout"
        }
      ]
    },
    {
      "cell_type": "code",
      "metadata": {
        "id": "Xi9EZrJ8kQmr",
        "colab_type": "code",
        "colab": {
          "base_uri": "https://localhost:8080/",
          "height": 34
        },
        "outputId": "03b6ce82-1aed-4303-e47d-4f85dfa93918"
      },
      "source": [
        "let untrainedLogits = model(firstTrainFeatures)\n",
        "let untrainedLoss = softmaxCrossEntropy(logits: untrainedLogits, labels: firstTrainLabels)\n",
        "print(\"Loss test: \\(untrainedLoss)\")"
      ],
      "execution_count": 30,
      "outputs": [
        {
          "output_type": "stream",
          "text": [
            "Loss test: 2.1055155\r\n"
          ],
          "name": "stdout"
        }
      ]
    },
    {
      "cell_type": "code",
      "metadata": {
        "id": "uWsmpGMcn4Il",
        "colab_type": "code",
        "colab": {}
      },
      "source": [
        "let optimizer = SGD(for: model, learningRate: 0.01)"
      ],
      "execution_count": 0,
      "outputs": []
    },
    {
      "cell_type": "code",
      "metadata": {
        "id": "GSmBMJ9boiv8",
        "colab_type": "code",
        "colab": {
          "base_uri": "https://localhost:8080/",
          "height": 34
        },
        "outputId": "fb8c6a59-d46a-47c7-ab5b-14bd860eec5b"
      },
      "source": [
        "let (loss, grads) = model.valueWithGradient { model -> Tensor<Float> in\n",
        "    let logits = model(firstTrainFeatures)\n",
        "    return softmaxCrossEntropy(logits: logits, labels: firstTrainLabels)\n",
        "}\n",
        "print(\"Current loss: \\(loss)\")"
      ],
      "execution_count": 32,
      "outputs": [
        {
          "output_type": "stream",
          "text": [
            "Current loss: 2.1055155\r\n"
          ],
          "name": "stdout"
        }
      ]
    },
    {
      "cell_type": "code",
      "metadata": {
        "id": "ao_3d6a1orAx",
        "colab_type": "code",
        "colab": {}
      },
      "source": [
        "optimizer.update(&model.allDifferentiableVariables, along: grads)"
      ],
      "execution_count": 0,
      "outputs": []
    },
    {
      "cell_type": "code",
      "metadata": {
        "id": "gfgeYSfNo0aA",
        "colab_type": "code",
        "colab": {
          "base_uri": "https://localhost:8080/",
          "height": 34
        },
        "outputId": "8f38d6ca-74e1-4584-80df-4856dbb8c43f"
      },
      "source": [
        "let logitsAfterOneStep = model(firstTrainFeatures)\n",
        "let lossAfterOneStep = softmaxCrossEntropy(logits: logitsAfterOneStep, labels: firstTrainLabels)\n",
        "print(\"Next loss: \\(lossAfterOneStep)\")"
      ],
      "execution_count": 39,
      "outputs": [
        {
          "output_type": "stream",
          "text": [
            "Next loss: 1.2867589\r\n"
          ],
          "name": "stdout"
        }
      ]
    },
    {
      "cell_type": "code",
      "metadata": {
        "id": "dELGdlh2o8Eq",
        "colab_type": "code",
        "colab": {}
      },
      "source": [
        "let epochCount = 500\n",
        "var trainAccuracyResults: [Float] = []\n",
        "var trainLossResults: [Float] = []"
      ],
      "execution_count": 0,
      "outputs": []
    },
    {
      "cell_type": "code",
      "metadata": {
        "id": "RqMXR6E4pqEH",
        "colab_type": "code",
        "colab": {
          "base_uri": "https://localhost:8080/",
          "height": 187
        },
        "outputId": "e241a789-fbaf-4280-bf15-f5f8671fd917"
      },
      "source": [
        "func accuracy(predictions: Tensor<Int32>, truths: Tensor<Int32>) -> Float {\n",
        "    return Tensor<Float>(predictions .== truths).mean().scalarized()\n",
        "}\n",
        "\n",
        "for epoch in 1...epochCount {\n",
        "    var epochLoss: Float = 0\n",
        "    var epochAccuracy: Float = 0\n",
        "    var batchCount: Int = 0\n",
        "    for batch in trainDataset {\n",
        "        let (loss, grad) = model.valueWithGradient { (model: IrisModel) -> Tensor<Float> in\n",
        "            let logits = model(batch.features)\n",
        "            return softmaxCrossEntropy(logits: logits, labels: batch.labels)\n",
        "        }\n",
        "        optimizer.update(&model.allDifferentiableVariables, along: grad)\n",
        "        \n",
        "        let logits = model(batch.features)\n",
        "        epochAccuracy += accuracy(predictions: logits.argmax(squeezingAxis: 1), truths: batch.labels)\n",
        "        epochLoss += loss.scalarized()\n",
        "        batchCount += 1\n",
        "    }\n",
        "    epochAccuracy /= Float(batchCount)\n",
        "    epochLoss /= Float(batchCount)\n",
        "    trainAccuracyResults.append(epochAccuracy)\n",
        "    trainLossResults.append(epochLoss)\n",
        "    if epoch % 50 == 0 {\n",
        "        print(\"Epoch \\(epoch): Loss: \\(epochLoss), Accuracy: \\(epochAccuracy)\")\n",
        "    }\n",
        "}"
      ],
      "execution_count": 41,
      "outputs": [
        {
          "output_type": "stream",
          "text": [
            "Epoch 50: Loss: 0.34320694, Accuracy: 0.9401042\n",
            "Epoch 100: Loss: 0.24411628, Accuracy: 0.9557292\n",
            "Epoch 150: Loss: 0.19819017, Accuracy: 0.9557292\n",
            "Epoch 200: Loss: 0.17036112, Accuracy: 0.9557292\n",
            "Epoch 250: Loss: 0.15016097, Accuracy: 0.9557292\n",
            "Epoch 300: Loss: 0.13476387, Accuracy: 0.9557292\n",
            "Epoch 350: Loss: 0.1234553, Accuracy: 0.9557292\n",
            "Epoch 400: Loss: 0.11427217, Accuracy: 0.9557292\n",
            "Epoch 450: Loss: 0.10703916, Accuracy: 0.9739583\n",
            "Epoch 500: Loss: 0.10107569, Accuracy: 0.9739583\n"
          ],
          "name": "stdout"
        }
      ]
    },
    {
      "cell_type": "code",
      "metadata": {
        "id": "3uJmlWudq1nG",
        "colab_type": "code",
        "colab": {
          "base_uri": "https://localhost:8080/",
          "height": 518
        },
        "outputId": "52412e38-7e84-4224-e85f-4e62dcd80518"
      },
      "source": [
        "plt.figure(figsize: [12, 8])\n",
        "\n",
        "let accuracyAxes = plt.subplot(2, 1, 1)\n",
        "accuracyAxes.set_ylabel(\"Accuracy\")\n",
        "accuracyAxes.plot(trainAccuracyResults)\n",
        "\n",
        "let lossAxes = plt.subplot(2, 1, 2)\n",
        "lossAxes.set_ylabel(\"Loss\")\n",
        "lossAxes.set_xlabel(\"Epoch\")\n",
        "lossAxes.plot(trainLossResults)\n",
        "\n",
        "plt.show()"
      ],
      "execution_count": 42,
      "outputs": [
        {
          "output_type": "display_data",
          "data": {
            "image/png": "[encoded data removed]",
            "text/plain": [
              "<Figure size 864x576 with 2 Axes>"
            ]
          },
          "metadata": {
            "tags": []
          }
        },
        {
          "output_type": "execute_result",
          "data": {
            "text/plain": [
              "None\n"
            ]
          },
          "metadata": {
            "tags": []
          },
          "execution_count": 42
        }
      ]
    },
    {
      "cell_type": "markdown",
      "metadata": {
        "id": "g1JQq1s0s_vg",
        "colab_type": "text"
      },
      "source": [
        "# End Iris dataset play"
      ]
    },
    {
      "cell_type": "code",
      "metadata": {
        "id": "qzmK_4k9q8me",
        "colab_type": "code",
        "colab": {}
      },
      "source": [
        ""
      ],
      "execution_count": 0,
      "outputs": []
    }
  ]
}